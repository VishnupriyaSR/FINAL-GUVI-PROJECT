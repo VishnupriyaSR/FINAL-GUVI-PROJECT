{
 "cells": [
  {
   "cell_type": "code",
   "execution_count": 1,
   "id": "7fd91960-c34e-4cbd-8df5-e45423ad4cb9",
   "metadata": {},
   "outputs": [],
   "source": [
    "import numpy as np\n",
    "import pandas as pd\n",
    "import warnings\n",
    "warnings.filterwarnings('ignore')\n",
    "from datetime import datetime, timedelta\n",
    "from sklearn.preprocessing import OrdinalEncoder\n",
    "# import dataprep.eda.create_report as report\n",
    "import seaborn as sns\n",
    "import matplotlib.pyplot as plt"
   ]
  },
  {
   "cell_type": "markdown",
   "id": "f2872a38-d15e-4f06-92f1-acc59735a7ee",
   "metadata": {},
   "source": [
    "# 1.Loading Data"
   ]
  },
  {
   "cell_type": "code",
   "execution_count": 87,
   "id": "cf022c9c-8231-47bc-b998-5ae6edb48f5e",
   "metadata": {},
   "outputs": [
    {
     "data": {
      "text/html": [
       "<div>\n",
       "<style scoped>\n",
       "    .dataframe tbody tr th:only-of-type {\n",
       "        vertical-align: middle;\n",
       "    }\n",
       "\n",
       "    .dataframe tbody tr th {\n",
       "        vertical-align: top;\n",
       "    }\n",
       "\n",
       "    .dataframe thead th {\n",
       "        text-align: right;\n",
       "    }\n",
       "</style>\n",
       "<table border=\"1\" class=\"dataframe\">\n",
       "  <thead>\n",
       "    <tr style=\"text-align: right;\">\n",
       "      <th></th>\n",
       "      <th>Timestamp</th>\n",
       "      <th>Boiler Name</th>\n",
       "      <th>Temperature</th>\n",
       "      <th>Anomaly</th>\n",
       "    </tr>\n",
       "  </thead>\n",
       "  <tbody>\n",
       "    <tr>\n",
       "      <th>0</th>\n",
       "      <td>2023-01-23 00:58:20</td>\n",
       "      <td>Boiler A</td>\n",
       "      <td>20.180428</td>\n",
       "      <td>0</td>\n",
       "    </tr>\n",
       "    <tr>\n",
       "      <th>1</th>\n",
       "      <td>2023-01-30 06:30:08</td>\n",
       "      <td>Boiler A</td>\n",
       "      <td>23.372948</td>\n",
       "      <td>0</td>\n",
       "    </tr>\n",
       "    <tr>\n",
       "      <th>2</th>\n",
       "      <td>2023-01-03 10:47:23</td>\n",
       "      <td>Boiler A</td>\n",
       "      <td>29.858208</td>\n",
       "      <td>0</td>\n",
       "    </tr>\n",
       "    <tr>\n",
       "      <th>3</th>\n",
       "      <td>2023-01-03 17:10:50</td>\n",
       "      <td>Boiler C</td>\n",
       "      <td>20.564032</td>\n",
       "      <td>0</td>\n",
       "    </tr>\n",
       "    <tr>\n",
       "      <th>4</th>\n",
       "      <td>2023-01-04 17:50:22</td>\n",
       "      <td>Boiler D</td>\n",
       "      <td>23.547024</td>\n",
       "      <td>0</td>\n",
       "    </tr>\n",
       "  </tbody>\n",
       "</table>\n",
       "</div>"
      ],
      "text/plain": [
       "             Timestamp Boiler Name  Temperature  Anomaly\n",
       "0  2023-01-23 00:58:20    Boiler A    20.180428        0\n",
       "1  2023-01-30 06:30:08    Boiler A    23.372948        0\n",
       "2  2023-01-03 10:47:23    Boiler A    29.858208        0\n",
       "3  2023-01-03 17:10:50    Boiler C    20.564032        0\n",
       "4  2023-01-04 17:50:22    Boiler D    23.547024        0"
      ]
     },
     "execution_count": 87,
     "metadata": {},
     "output_type": "execute_result"
    }
   ],
   "source": [
    "df=pd.read_csv(\"sensor_data.csv\")\n",
    "df.head()"
   ]
  },
  {
   "cell_type": "markdown",
   "id": "4e6d3adb-6a10-4c5c-9c93-8729aa0e21df",
   "metadata": {},
   "source": [
    "# 2.Exploring data"
   ]
  },
  {
   "cell_type": "code",
   "execution_count": 73,
   "id": "e684f584-95ca-41f1-be7a-5ff9e1425331",
   "metadata": {},
   "outputs": [
    {
     "data": {
      "text/plain": [
       "(24, 4)"
      ]
     },
     "execution_count": 73,
     "metadata": {},
     "output_type": "execute_result"
    }
   ],
   "source": [
    "le=df[df['Anomaly']==1]\n",
    "le.shape"
   ]
  },
  {
   "cell_type": "code",
   "execution_count": 74,
   "id": "16c33fa0-cc7f-4fbe-a17a-372aaac62906",
   "metadata": {},
   "outputs": [
    {
     "data": {
      "text/plain": [
       "Timestamp       object\n",
       "Boiler Name     object\n",
       "Temperature    float64\n",
       "Anomaly          int64\n",
       "dtype: object"
      ]
     },
     "execution_count": 74,
     "metadata": {},
     "output_type": "execute_result"
    }
   ],
   "source": [
    "df.dtypes #data types"
   ]
  },
  {
   "cell_type": "code",
   "execution_count": 4,
   "id": "81ed2969-f29b-454a-9fc3-9ecf675a7991",
   "metadata": {},
   "outputs": [
    {
     "data": {
      "text/html": [
       "<div>\n",
       "<style scoped>\n",
       "    .dataframe tbody tr th:only-of-type {\n",
       "        vertical-align: middle;\n",
       "    }\n",
       "\n",
       "    .dataframe tbody tr th {\n",
       "        vertical-align: top;\n",
       "    }\n",
       "\n",
       "    .dataframe thead th {\n",
       "        text-align: right;\n",
       "    }\n",
       "</style>\n",
       "<table border=\"1\" class=\"dataframe\">\n",
       "  <thead>\n",
       "    <tr style=\"text-align: right;\">\n",
       "      <th></th>\n",
       "      <th>Timestamp</th>\n",
       "      <th>Boiler Name</th>\n",
       "      <th>Temperature</th>\n",
       "      <th>Anomaly</th>\n",
       "      <th>year</th>\n",
       "      <th>month</th>\n",
       "      <th>day</th>\n",
       "      <th>hour</th>\n",
       "      <th>minute</th>\n",
       "    </tr>\n",
       "  </thead>\n",
       "  <tbody>\n",
       "    <tr>\n",
       "      <th>0</th>\n",
       "      <td>2023-01-23 00:58:20</td>\n",
       "      <td>Boiler A</td>\n",
       "      <td>20.180428</td>\n",
       "      <td>0</td>\n",
       "      <td>2023</td>\n",
       "      <td>1</td>\n",
       "      <td>23</td>\n",
       "      <td>0</td>\n",
       "      <td>58</td>\n",
       "    </tr>\n",
       "    <tr>\n",
       "      <th>1</th>\n",
       "      <td>2023-01-30 06:30:08</td>\n",
       "      <td>Boiler A</td>\n",
       "      <td>23.372948</td>\n",
       "      <td>0</td>\n",
       "      <td>2023</td>\n",
       "      <td>1</td>\n",
       "      <td>30</td>\n",
       "      <td>6</td>\n",
       "      <td>30</td>\n",
       "    </tr>\n",
       "    <tr>\n",
       "      <th>2</th>\n",
       "      <td>2023-01-03 10:47:23</td>\n",
       "      <td>Boiler A</td>\n",
       "      <td>29.858208</td>\n",
       "      <td>0</td>\n",
       "      <td>2023</td>\n",
       "      <td>1</td>\n",
       "      <td>3</td>\n",
       "      <td>10</td>\n",
       "      <td>47</td>\n",
       "    </tr>\n",
       "    <tr>\n",
       "      <th>3</th>\n",
       "      <td>2023-01-03 17:10:50</td>\n",
       "      <td>Boiler C</td>\n",
       "      <td>20.564032</td>\n",
       "      <td>0</td>\n",
       "      <td>2023</td>\n",
       "      <td>1</td>\n",
       "      <td>3</td>\n",
       "      <td>17</td>\n",
       "      <td>10</td>\n",
       "    </tr>\n",
       "    <tr>\n",
       "      <th>4</th>\n",
       "      <td>2023-01-04 17:50:22</td>\n",
       "      <td>Boiler D</td>\n",
       "      <td>23.547024</td>\n",
       "      <td>0</td>\n",
       "      <td>2023</td>\n",
       "      <td>1</td>\n",
       "      <td>4</td>\n",
       "      <td>17</td>\n",
       "      <td>50</td>\n",
       "    </tr>\n",
       "    <tr>\n",
       "      <th>...</th>\n",
       "      <td>...</td>\n",
       "      <td>...</td>\n",
       "      <td>...</td>\n",
       "      <td>...</td>\n",
       "      <td>...</td>\n",
       "      <td>...</td>\n",
       "      <td>...</td>\n",
       "      <td>...</td>\n",
       "      <td>...</td>\n",
       "    </tr>\n",
       "    <tr>\n",
       "      <th>995</th>\n",
       "      <td>2023-01-11 23:39:44</td>\n",
       "      <td>Boiler A</td>\n",
       "      <td>27.596447</td>\n",
       "      <td>0</td>\n",
       "      <td>2023</td>\n",
       "      <td>1</td>\n",
       "      <td>11</td>\n",
       "      <td>23</td>\n",
       "      <td>39</td>\n",
       "    </tr>\n",
       "    <tr>\n",
       "      <th>996</th>\n",
       "      <td>2023-01-25 01:22:21</td>\n",
       "      <td>Boiler B</td>\n",
       "      <td>19.189359</td>\n",
       "      <td>0</td>\n",
       "      <td>2023</td>\n",
       "      <td>1</td>\n",
       "      <td>25</td>\n",
       "      <td>1</td>\n",
       "      <td>22</td>\n",
       "    </tr>\n",
       "    <tr>\n",
       "      <th>997</th>\n",
       "      <td>2023-01-02 03:47:51</td>\n",
       "      <td>Boiler A</td>\n",
       "      <td>17.157156</td>\n",
       "      <td>0</td>\n",
       "      <td>2023</td>\n",
       "      <td>1</td>\n",
       "      <td>2</td>\n",
       "      <td>3</td>\n",
       "      <td>47</td>\n",
       "    </tr>\n",
       "    <tr>\n",
       "      <th>998</th>\n",
       "      <td>2023-01-07 09:21:22</td>\n",
       "      <td>Boiler B</td>\n",
       "      <td>23.135241</td>\n",
       "      <td>0</td>\n",
       "      <td>2023</td>\n",
       "      <td>1</td>\n",
       "      <td>7</td>\n",
       "      <td>9</td>\n",
       "      <td>21</td>\n",
       "    </tr>\n",
       "    <tr>\n",
       "      <th>999</th>\n",
       "      <td>2023-01-01 07:37:21</td>\n",
       "      <td>Boiler D</td>\n",
       "      <td>19.398653</td>\n",
       "      <td>0</td>\n",
       "      <td>2023</td>\n",
       "      <td>1</td>\n",
       "      <td>1</td>\n",
       "      <td>7</td>\n",
       "      <td>37</td>\n",
       "    </tr>\n",
       "  </tbody>\n",
       "</table>\n",
       "<p>1000 rows × 9 columns</p>\n",
       "</div>"
      ],
      "text/plain": [
       "              Timestamp Boiler Name  Temperature  Anomaly  year  month  day  \\\n",
       "0   2023-01-23 00:58:20    Boiler A    20.180428        0  2023      1   23   \n",
       "1   2023-01-30 06:30:08    Boiler A    23.372948        0  2023      1   30   \n",
       "2   2023-01-03 10:47:23    Boiler A    29.858208        0  2023      1    3   \n",
       "3   2023-01-03 17:10:50    Boiler C    20.564032        0  2023      1    3   \n",
       "4   2023-01-04 17:50:22    Boiler D    23.547024        0  2023      1    4   \n",
       "..                  ...         ...          ...      ...   ...    ...  ...   \n",
       "995 2023-01-11 23:39:44    Boiler A    27.596447        0  2023      1   11   \n",
       "996 2023-01-25 01:22:21    Boiler B    19.189359        0  2023      1   25   \n",
       "997 2023-01-02 03:47:51    Boiler A    17.157156        0  2023      1    2   \n",
       "998 2023-01-07 09:21:22    Boiler B    23.135241        0  2023      1    7   \n",
       "999 2023-01-01 07:37:21    Boiler D    19.398653        0  2023      1    1   \n",
       "\n",
       "     hour  minute  \n",
       "0       0      58  \n",
       "1       6      30  \n",
       "2      10      47  \n",
       "3      17      10  \n",
       "4      17      50  \n",
       "..    ...     ...  \n",
       "995    23      39  \n",
       "996     1      22  \n",
       "997     3      47  \n",
       "998     9      21  \n",
       "999     7      37  \n",
       "\n",
       "[1000 rows x 9 columns]"
      ]
     },
     "execution_count": 4,
     "metadata": {},
     "output_type": "execute_result"
    }
   ],
   "source": [
    "df['Timestamp'] = pd.to_datetime(df['Timestamp'])\n",
    "df['year'] = df['Timestamp'].apply(lambda x : x.year)\n",
    "df['month'] = df['Timestamp'].apply(lambda x : x.month)\n",
    "df['day'] = df['Timestamp'].apply(lambda x : x.day)\n",
    "df['hour'] = df['Timestamp'].apply(lambda x : x.hour)\n",
    "df['minute'] = df['Timestamp'].apply(lambda x : x.minute)\n",
    "\n",
    "df"
   ]
  },
  {
   "cell_type": "markdown",
   "id": "1f180a2f-564b-4c57-a916-c94a2f512295",
   "metadata": {},
   "source": [
    "# 3.Data Visualization"
   ]
  },
  {
   "cell_type": "code",
   "execution_count": 75,
   "id": "cbda1f1f-26af-473f-bee7-dbc8bac677bd",
   "metadata": {},
   "outputs": [
    {
     "data": {
      "image/png": "[encoded data removed]",
      "text/plain": [
       "<Figure size 1000x500 with 1 Axes>"
      ]
     },
     "metadata": {},
     "output_type": "display_data"
    }
   ],
   "source": [
    "plt.figure(figsize=(10, 5))\n",
    "plt.hist(df['Temperature'], bins=10, color='skyblue', edgecolor='black', alpha=0.7)\n",
    "plt.xlabel('Temperature')\n",
    "plt.ylabel('Frequency')\n",
    "plt.title('Temperature Distribution')\n",
    "plt.grid(True)\n",
    "plt.show()"
   ]
  },
  {
   "cell_type": "code",
   "execution_count": 76,
   "id": "81bbd0a1-76a0-491c-9233-db2f26e4a0c0",
   "metadata": {},
   "outputs": [
    {
     "name": "stderr",
     "output_type": "stream",
     "text": [
      "No artists with labels found to put in legend.  Note that artists whose label start with an underscore are ignored when legend() is called with no argument.\n"
     ]
    },
    {
     "data": {
      "image/png": "[encoded data removed]",
      "text/plain": [
       "<Figure size 640x480 with 1 Axes>"
      ]
     },
     "metadata": {},
     "output_type": "display_data"
    }
   ],
   "source": [
    "plt.bar(df['Temperature'],df['Anomaly'], color='red')\n",
    "\n",
    "plt.xlabel('Anomaly')\n",
    "plt.ylabel('Temperature')\n",
    "plt.title('Temperature and Anomaly Plot')\n",
    "plt.legend()\n",
    "plt.grid(True)\n",
    "plt.show()"
   ]
  },
  {
   "cell_type": "markdown",
   "id": "e6240fe1-94d2-44ef-b9a0-0d1f20c51d87",
   "metadata": {},
   "source": [
    "# 4.Checking For Null Values"
   ]
  },
  {
   "cell_type": "code",
   "execution_count": 77,
   "id": "53c76bc8-bad2-4cb6-9ee0-af86aee3f6f9",
   "metadata": {},
   "outputs": [
    {
     "data": {
      "text/plain": [
       "(1000, 4)"
      ]
     },
     "execution_count": 77,
     "metadata": {},
     "output_type": "execute_result"
    }
   ],
   "source": [
    "df.shape"
   ]
  },
  {
   "cell_type": "code",
   "execution_count": 78,
   "id": "f1c1930b-7f85-404d-85e3-c8975473a78a",
   "metadata": {},
   "outputs": [
    {
     "data": {
      "text/plain": [
       "Timestamp      0\n",
       "Boiler Name    0\n",
       "Temperature    0\n",
       "Anomaly        0\n",
       "dtype: int64"
      ]
     },
     "execution_count": 78,
     "metadata": {},
     "output_type": "execute_result"
    }
   ],
   "source": [
    "df.isnull().sum() "
   ]
  },
  {
   "cell_type": "code",
   "execution_count": 79,
   "id": "dbc83d67-4855-47c9-a59c-c78713339b81",
   "metadata": {},
   "outputs": [
    {
     "data": {
      "text/html": [
       "<div>\n",
       "<style scoped>\n",
       "    .dataframe tbody tr th:only-of-type {\n",
       "        vertical-align: middle;\n",
       "    }\n",
       "\n",
       "    .dataframe tbody tr th {\n",
       "        vertical-align: top;\n",
       "    }\n",
       "\n",
       "    .dataframe thead th {\n",
       "        text-align: right;\n",
       "    }\n",
       "</style>\n",
       "<table border=\"1\" class=\"dataframe\">\n",
       "  <thead>\n",
       "    <tr style=\"text-align: right;\">\n",
       "      <th></th>\n",
       "      <th>Temperature</th>\n",
       "      <th>Anomaly</th>\n",
       "    </tr>\n",
       "  </thead>\n",
       "  <tbody>\n",
       "    <tr>\n",
       "      <th>count</th>\n",
       "      <td>1000.000000</td>\n",
       "      <td>1000.000000</td>\n",
       "    </tr>\n",
       "    <tr>\n",
       "      <th>mean</th>\n",
       "      <td>25.795237</td>\n",
       "      <td>0.024000</td>\n",
       "    </tr>\n",
       "    <tr>\n",
       "      <th>std</th>\n",
       "      <td>8.206830</td>\n",
       "      <td>0.153126</td>\n",
       "    </tr>\n",
       "    <tr>\n",
       "      <th>min</th>\n",
       "      <td>1.793127</td>\n",
       "      <td>0.000000</td>\n",
       "    </tr>\n",
       "    <tr>\n",
       "      <th>25%</th>\n",
       "      <td>21.847202</td>\n",
       "      <td>0.000000</td>\n",
       "    </tr>\n",
       "    <tr>\n",
       "      <th>50%</th>\n",
       "      <td>25.120639</td>\n",
       "      <td>0.000000</td>\n",
       "    </tr>\n",
       "    <tr>\n",
       "      <th>75%</th>\n",
       "      <td>28.567648</td>\n",
       "      <td>0.000000</td>\n",
       "    </tr>\n",
       "    <tr>\n",
       "      <th>max</th>\n",
       "      <td>94.007501</td>\n",
       "      <td>1.000000</td>\n",
       "    </tr>\n",
       "  </tbody>\n",
       "</table>\n",
       "</div>"
      ],
      "text/plain": [
       "       Temperature      Anomaly\n",
       "count  1000.000000  1000.000000\n",
       "mean     25.795237     0.024000\n",
       "std       8.206830     0.153126\n",
       "min       1.793127     0.000000\n",
       "25%      21.847202     0.000000\n",
       "50%      25.120639     0.000000\n",
       "75%      28.567648     0.000000\n",
       "max      94.007501     1.000000"
      ]
     },
     "execution_count": 79,
     "metadata": {},
     "output_type": "execute_result"
    }
   ],
   "source": [
    "df.describe() #see statistics of data"
   ]
  },
  {
   "cell_type": "code",
   "execution_count": 80,
   "id": "4a605286-c1d8-4eab-a35d-7bca50b8f573",
   "metadata": {},
   "outputs": [
    {
     "data": {
      "text/plain": [
       "Anomaly\n",
       "0    976\n",
       "1     24\n",
       "Name: count, dtype: int64"
      ]
     },
     "execution_count": 80,
     "metadata": {},
     "output_type": "execute_result"
    }
   ],
   "source": [
    "# check no of rows (records) of each 1 and 0 in dataframe\n",
    "df['Anomaly'].value_counts()"
   ]
  },
  {
   "cell_type": "code",
   "execution_count": 9,
   "id": "b7c8ec38-1fd4-4998-955c-4b1f9bb04612",
   "metadata": {},
   "outputs": [
    {
     "data": {
      "text/plain": [
       "year  month\n",
       "2023  1        1000\n",
       "dtype: int64"
      ]
     },
     "execution_count": 9,
     "metadata": {},
     "output_type": "execute_result"
    }
   ],
   "source": [
    "grouped_data = df.groupby([df['year'], df['month']]).size()\n",
    "grouped_data"
   ]
  },
  {
   "cell_type": "markdown",
   "id": "608581eb-374b-4d99-aefc-ad8014515f26",
   "metadata": {},
   "source": [
    "# 5.Check Outliers"
   ]
  },
  {
   "cell_type": "code",
   "execution_count": 21,
   "id": "871a7053-584b-4d79-ae0b-4af08adad81b",
   "metadata": {},
   "outputs": [],
   "source": [
    "#remove outliers \n",
    "#Clip the particular datas between upper and lower threshold\n",
    "def outlier(df, column):\n",
    "    iqr = df[column].quantile(0.75) - df[column].quantile(0.25)\n",
    "    upper = df[column].quantile(0.75) + (1.5*iqr)\n",
    "    lower = df[column].quantile(0.25) - (1.5*iqr)\n",
    "    df[column] = df[column].clip(lower, upper)"
   ]
  },
  {
   "cell_type": "code",
   "execution_count": 22,
   "id": "512b821f-1da7-4d7e-98f0-5004dac9ae9a",
   "metadata": {},
   "outputs": [],
   "source": [
    "outlier(df, 'Temperature')"
   ]
  },
  {
   "cell_type": "code",
   "execution_count": 23,
   "id": "f4cea219-9ecf-4ab5-bb04-2cb5916c72dd",
   "metadata": {},
   "outputs": [],
   "source": [
    "def plot(df, column):\n",
    "    plt.figure(figsize=(20,5))\n",
    "    plt.subplot(1,3,1)\n",
    "    sns.boxplot(data=df, x=column)\n",
    "    plt.title(f'Box Plot for {column}')"
   ]
  },
  {
   "cell_type": "code",
   "execution_count": 24,
   "id": "99f29aa4-3a36-44fc-8aba-139800395af1",
   "metadata": {},
   "outputs": [
    {
     "data": {
      "image/png": "[encoded data removed]",
      "text/plain": [
       "<Figure size 2000x500 with 1 Axes>"
      ]
     },
     "metadata": {},
     "output_type": "display_data"
    }
   ],
   "source": [
    "for i in ['Temperature']:\n",
    "    plot(df, i)"
   ]
  },
  {
   "cell_type": "markdown",
   "id": "a1dfd8dc-0430-4fa6-84ee-3dccc15c3cfe",
   "metadata": {},
   "source": [
    "# 6. Predicting Anomaly based on Z-Score"
   ]
  },
  {
   "cell_type": "code",
   "execution_count": 81,
   "id": "1314f0e8-286c-4b1c-aa23-3c956686a4c1",
   "metadata": {},
   "outputs": [
    {
     "data": {
      "text/plain": [
       "(19, 5)"
      ]
     },
     "execution_count": 81,
     "metadata": {},
     "output_type": "execute_result"
    }
   ],
   "source": [
    "# Calculate Z-score\n",
    "df['z_score'] = (df['Temperature'] - df['Temperature'].mean()) / df['Temperature'].std()\n",
    "\n",
    "# Define threshold for anomaly detection\n",
    "threshold = 2   #set threshold=2\n",
    "\n",
    "# Detect anomalies\n",
    "df['Anomaly'] = np.where(np.abs(df['z_score']) > threshold, True, False)\n",
    "\n",
    "anomalies = df[df['z_score'] > 2]\n",
    "anomalies.shape"
   ]
  },
  {
   "cell_type": "code",
   "execution_count": 82,
   "id": "45404929-3399-466d-9b6c-e4f68b330c46",
   "metadata": {},
   "outputs": [
    {
     "name": "stdout",
     "output_type": "stream",
     "text": [
      "Confusion Matrix:\n",
      "[[978   0]\n",
      " [  3  19]]\n",
      "Precision: 1.0\n",
      "Recall: 0.8636363636363636\n",
      "F1 Score: 0.926829268292683\n"
     ]
    }
   ],
   "source": [
    "from sklearn.metrics import confusion_matrix, precision_score, recall_score, f1_score\n",
    "\n",
    "# Calculate mean and standard deviation of temperature\n",
    "mean_temp = df['Temperature'].mean()\n",
    "std_temp = df['Temperature'].std()\n",
    "\n",
    "# Calculate Z-scores\n",
    "df['z_score'] = (df['Temperature'] - mean_temp) / std_temp\n",
    "\n",
    "# Set threshold (e.g., 2 standard deviations)\n",
    "threshold = 2\n",
    "\n",
    "# Label anomalies based on threshold\n",
    "df['predicted_label'] = df['z_score'].apply(lambda x: 1 if x > threshold else 0)\n",
    "\n",
    "# Evaluate performance\n",
    "true_labels = df['Anomaly']\n",
    "predicted_labels = df['predicted_label']\n",
    "\n",
    "# Calculate confusion matrix\n",
    "cm = confusion_matrix(true_labels, predicted_labels)\n",
    "print(\"Confusion Matrix:\")\n",
    "print(cm)\n",
    "\n",
    "# Calculate precision\n",
    "precision = precision_score(true_labels, predicted_labels)\n",
    "print(\"Precision:\", precision)\n",
    "\n",
    "# Calculate recall\n",
    "recall = recall_score(true_labels, predicted_labels)\n",
    "print(\"Recall:\", recall)\n",
    "\n",
    "# Calculate F1 score\n",
    "f1 = f1_score(true_labels, predicted_labels)\n",
    "print(\"F1 Score:\", f1)"
   ]
  },
  {
   "cell_type": "code",
   "execution_count": 15,
   "id": "901b05b3-5c3f-4116-8634-c1aa153f1651",
   "metadata": {},
   "outputs": [
    {
     "name": "stdout",
     "output_type": "stream",
     "text": [
      "     0         1    2    3    4         5         6         7         8    9\n",
      "0 -1.0 -0.735101  0.0  0.0  0.0  0.533333 -0.916667  0.950000 -0.735101  0.0\n",
      "1 -1.0 -0.260056  0.0  0.0  0.0  1.000000 -0.416667  0.016667 -0.260056  0.0\n",
      "2 -1.0  0.704949  0.0  0.0  0.0 -0.800000 -0.083333  0.583333  0.704949  0.0\n",
      "3  0.0 -0.678021  0.0  0.0  0.0 -0.800000  0.500000 -0.650000 -0.678021  0.0\n",
      "4  0.5 -0.234153  0.0  0.0  0.0 -0.733333  0.500000  0.683333 -0.234153  0.0\n"
     ]
    }
   ],
   "source": [
    "# scaling X here \n",
    "#Importing the ROBUST SCALER\n",
    "from sklearn.preprocessing import RobustScaler\n",
    "x=df.drop(['Timestamp'],axis=1)\n",
    "# Using the robust scaler \n",
    "robust_scaler_1 = RobustScaler()\n",
    "X = robust_scaler_1.fit_transform(x)\n",
    "X = pd.DataFrame(X)\n",
    "\n",
    "#After scaling data be like \n",
    "print(X.head())"
   ]
  },
  {
   "cell_type": "markdown",
   "id": "cddb011a-7b7f-4b1e-a9fc-248108382b13",
   "metadata": {},
   "source": [
    "# 7.Converting Categorical to Numerical"
   ]
  },
  {
   "cell_type": "code",
   "execution_count": 45,
   "id": "31505ba6-e959-47de-a221-d2997b89c043",
   "metadata": {},
   "outputs": [
    {
     "data": {
      "text/plain": [
       "array(['Boiler A', 'Boiler C', 'Boiler D', 'Boiler B'], dtype=object)"
      ]
     },
     "execution_count": 45,
     "metadata": {},
     "output_type": "execute_result"
    }
   ],
   "source": [
    "df['Boiler Name'].unique()"
   ]
  },
  {
   "cell_type": "code",
   "execution_count": 88,
   "id": "fb0ad7a0-1106-46b9-bbef-1545fee8ef7f",
   "metadata": {},
   "outputs": [],
   "source": [
    "from sklearn.preprocessing import LabelEncoder\n",
    "label_encoder = LabelEncoder()\n",
    "\n",
    "# Fit label encoder and transform categories\n",
    "df['Boiler Name'] = label_encoder.fit_transform(df[['Boiler Name']])\n"
   ]
  },
  {
   "cell_type": "code",
   "execution_count": 84,
   "id": "338fa045-391a-4bf6-b8f9-9041f7b34c94",
   "metadata": {},
   "outputs": [
    {
     "data": {
      "text/html": [
       "<div>\n",
       "<style scoped>\n",
       "    .dataframe tbody tr th:only-of-type {\n",
       "        vertical-align: middle;\n",
       "    }\n",
       "\n",
       "    .dataframe tbody tr th {\n",
       "        vertical-align: top;\n",
       "    }\n",
       "\n",
       "    .dataframe thead th {\n",
       "        text-align: right;\n",
       "    }\n",
       "</style>\n",
       "<table border=\"1\" class=\"dataframe\">\n",
       "  <thead>\n",
       "    <tr style=\"text-align: right;\">\n",
       "      <th></th>\n",
       "      <th>Timestamp</th>\n",
       "      <th>Boiler Name</th>\n",
       "      <th>Temperature</th>\n",
       "      <th>Anomaly</th>\n",
       "      <th>z_score</th>\n",
       "      <th>predicted_label</th>\n",
       "    </tr>\n",
       "  </thead>\n",
       "  <tbody>\n",
       "    <tr>\n",
       "      <th>0</th>\n",
       "      <td>2023-01-23 00:58:20</td>\n",
       "      <td>0</td>\n",
       "      <td>20.180428</td>\n",
       "      <td>False</td>\n",
       "      <td>-0.684163</td>\n",
       "      <td>0</td>\n",
       "    </tr>\n",
       "    <tr>\n",
       "      <th>1</th>\n",
       "      <td>2023-01-30 06:30:08</td>\n",
       "      <td>0</td>\n",
       "      <td>23.372948</td>\n",
       "      <td>False</td>\n",
       "      <td>-0.295155</td>\n",
       "      <td>0</td>\n",
       "    </tr>\n",
       "    <tr>\n",
       "      <th>2</th>\n",
       "      <td>2023-01-03 10:47:23</td>\n",
       "      <td>0</td>\n",
       "      <td>29.858208</td>\n",
       "      <td>False</td>\n",
       "      <td>0.495072</td>\n",
       "      <td>0</td>\n",
       "    </tr>\n",
       "    <tr>\n",
       "      <th>3</th>\n",
       "      <td>2023-01-03 17:10:50</td>\n",
       "      <td>2</td>\n",
       "      <td>20.564032</td>\n",
       "      <td>False</td>\n",
       "      <td>-0.637421</td>\n",
       "      <td>0</td>\n",
       "    </tr>\n",
       "    <tr>\n",
       "      <th>4</th>\n",
       "      <td>2023-01-04 17:50:22</td>\n",
       "      <td>3</td>\n",
       "      <td>23.547024</td>\n",
       "      <td>False</td>\n",
       "      <td>-0.273944</td>\n",
       "      <td>0</td>\n",
       "    </tr>\n",
       "    <tr>\n",
       "      <th>...</th>\n",
       "      <td>...</td>\n",
       "      <td>...</td>\n",
       "      <td>...</td>\n",
       "      <td>...</td>\n",
       "      <td>...</td>\n",
       "      <td>...</td>\n",
       "    </tr>\n",
       "    <tr>\n",
       "      <th>995</th>\n",
       "      <td>2023-01-11 23:39:44</td>\n",
       "      <td>0</td>\n",
       "      <td>27.596447</td>\n",
       "      <td>False</td>\n",
       "      <td>0.219477</td>\n",
       "      <td>0</td>\n",
       "    </tr>\n",
       "    <tr>\n",
       "      <th>996</th>\n",
       "      <td>2023-01-25 01:22:21</td>\n",
       "      <td>1</td>\n",
       "      <td>19.189359</td>\n",
       "      <td>False</td>\n",
       "      <td>-0.804924</td>\n",
       "      <td>0</td>\n",
       "    </tr>\n",
       "    <tr>\n",
       "      <th>997</th>\n",
       "      <td>2023-01-02 03:47:51</td>\n",
       "      <td>0</td>\n",
       "      <td>17.157156</td>\n",
       "      <td>False</td>\n",
       "      <td>-1.052548</td>\n",
       "      <td>0</td>\n",
       "    </tr>\n",
       "    <tr>\n",
       "      <th>998</th>\n",
       "      <td>2023-01-07 09:21:22</td>\n",
       "      <td>1</td>\n",
       "      <td>23.135241</td>\n",
       "      <td>False</td>\n",
       "      <td>-0.324120</td>\n",
       "      <td>0</td>\n",
       "    </tr>\n",
       "    <tr>\n",
       "      <th>999</th>\n",
       "      <td>2023-01-01 07:37:21</td>\n",
       "      <td>3</td>\n",
       "      <td>19.398653</td>\n",
       "      <td>False</td>\n",
       "      <td>-0.779422</td>\n",
       "      <td>0</td>\n",
       "    </tr>\n",
       "  </tbody>\n",
       "</table>\n",
       "<p>1000 rows × 6 columns</p>\n",
       "</div>"
      ],
      "text/plain": [
       "               Timestamp  Boiler Name  Temperature  Anomaly   z_score  \\\n",
       "0    2023-01-23 00:58:20            0    20.180428    False -0.684163   \n",
       "1    2023-01-30 06:30:08            0    23.372948    False -0.295155   \n",
       "2    2023-01-03 10:47:23            0    29.858208    False  0.495072   \n",
       "3    2023-01-03 17:10:50            2    20.564032    False -0.637421   \n",
       "4    2023-01-04 17:50:22            3    23.547024    False -0.273944   \n",
       "..                   ...          ...          ...      ...       ...   \n",
       "995  2023-01-11 23:39:44            0    27.596447    False  0.219477   \n",
       "996  2023-01-25 01:22:21            1    19.189359    False -0.804924   \n",
       "997  2023-01-02 03:47:51            0    17.157156    False -1.052548   \n",
       "998  2023-01-07 09:21:22            1    23.135241    False -0.324120   \n",
       "999  2023-01-01 07:37:21            3    19.398653    False -0.779422   \n",
       "\n",
       "     predicted_label  \n",
       "0                  0  \n",
       "1                  0  \n",
       "2                  0  \n",
       "3                  0  \n",
       "4                  0  \n",
       "..               ...  \n",
       "995                0  \n",
       "996                0  \n",
       "997                0  \n",
       "998                0  \n",
       "999                0  \n",
       "\n",
       "[1000 rows x 6 columns]"
      ]
     },
     "execution_count": 84,
     "metadata": {},
     "output_type": "execute_result"
    }
   ],
   "source": [
    "df"
   ]
  },
  {
   "cell_type": "code",
   "execution_count": 85,
   "id": "bd7a4a44-469c-445d-ab86-ced270231972",
   "metadata": {},
   "outputs": [
    {
     "data": {
      "image/png": "[encoded data removed]",
      "text/plain": [
       "<Figure size 1000x600 with 1 Axes>"
      ]
     },
     "metadata": {},
     "output_type": "display_data"
    }
   ],
   "source": [
    "from sklearn.ensemble import RandomForestClassifier\n",
    "import numpy as np\n",
    "import matplotlib.pyplot as plt\n",
    "\n",
    "# Load the dataset\n",
    "x= df.drop('Timestamp',axis=1)\n",
    "x= x.drop('predicted_label',axis=1)\n",
    "y = df['Anomaly']\n",
    "\n",
    "\n",
    "\n",
    "feature_names = ['Timestamp','Boiler Name', 'Temperature','z_score','predicted_label']\n",
    "      \n",
    "\n",
    "# Train a random forest classifier\n",
    "model = RandomForestClassifier(n_estimators=100, random_state=42)\n",
    "model.fit(x, y)\n",
    "\n",
    "# Get feature importances\n",
    "importances = model.feature_importances_\n",
    "\n",
    "# Sort feature importances in descending order\n",
    "indices = np.argsort(importances)[::-1]\n",
    "\n",
    "# Rearrange feature names based on feature importances\n",
    "names = [feature_names[i] for i in indices]\n",
    "\n",
    "# Create plot\n",
    "plt.figure(figsize=(10, 6))\n",
    "plt.title(\"Feature Importance\")\n",
    "plt.bar(range(x.shape[1]), importances[indices])\n",
    "plt.xticks(range(x.shape[1]), names, rotation=90)\n",
    "plt.show()"
   ]
  },
  {
   "cell_type": "markdown",
   "id": "f81c30c7-9a11-442d-842a-aca2da5c8fa5",
   "metadata": {},
   "source": [
    "# 8.Model selection and implementation"
   ]
  },
  {
   "cell_type": "code",
   "execution_count": 107,
   "id": "08254244-6e03-41d9-99aa-6c536bc84746",
   "metadata": {},
   "outputs": [
    {
     "data": {
      "text/html": [
       "<div>\n",
       "<style scoped>\n",
       "    .dataframe tbody tr th:only-of-type {\n",
       "        vertical-align: middle;\n",
       "    }\n",
       "\n",
       "    .dataframe tbody tr th {\n",
       "        vertical-align: top;\n",
       "    }\n",
       "\n",
       "    .dataframe thead th {\n",
       "        text-align: right;\n",
       "    }\n",
       "</style>\n",
       "<table border=\"1\" class=\"dataframe\">\n",
       "  <thead>\n",
       "    <tr style=\"text-align: right;\">\n",
       "      <th></th>\n",
       "      <th>Boiler Name</th>\n",
       "      <th>Temperature</th>\n",
       "    </tr>\n",
       "  </thead>\n",
       "  <tbody>\n",
       "    <tr>\n",
       "      <th>0</th>\n",
       "      <td>0</td>\n",
       "      <td>20.180428</td>\n",
       "    </tr>\n",
       "    <tr>\n",
       "      <th>1</th>\n",
       "      <td>0</td>\n",
       "      <td>23.372948</td>\n",
       "    </tr>\n",
       "    <tr>\n",
       "      <th>2</th>\n",
       "      <td>0</td>\n",
       "      <td>29.858208</td>\n",
       "    </tr>\n",
       "    <tr>\n",
       "      <th>3</th>\n",
       "      <td>2</td>\n",
       "      <td>20.564032</td>\n",
       "    </tr>\n",
       "    <tr>\n",
       "      <th>4</th>\n",
       "      <td>3</td>\n",
       "      <td>23.547024</td>\n",
       "    </tr>\n",
       "    <tr>\n",
       "      <th>...</th>\n",
       "      <td>...</td>\n",
       "      <td>...</td>\n",
       "    </tr>\n",
       "    <tr>\n",
       "      <th>995</th>\n",
       "      <td>0</td>\n",
       "      <td>27.596447</td>\n",
       "    </tr>\n",
       "    <tr>\n",
       "      <th>996</th>\n",
       "      <td>1</td>\n",
       "      <td>19.189359</td>\n",
       "    </tr>\n",
       "    <tr>\n",
       "      <th>997</th>\n",
       "      <td>0</td>\n",
       "      <td>17.157156</td>\n",
       "    </tr>\n",
       "    <tr>\n",
       "      <th>998</th>\n",
       "      <td>1</td>\n",
       "      <td>23.135241</td>\n",
       "    </tr>\n",
       "    <tr>\n",
       "      <th>999</th>\n",
       "      <td>3</td>\n",
       "      <td>19.398653</td>\n",
       "    </tr>\n",
       "  </tbody>\n",
       "</table>\n",
       "<p>1000 rows × 2 columns</p>\n",
       "</div>"
      ],
      "text/plain": [
       "     Boiler Name  Temperature\n",
       "0              0    20.180428\n",
       "1              0    23.372948\n",
       "2              0    29.858208\n",
       "3              2    20.564032\n",
       "4              3    23.547024\n",
       "..           ...          ...\n",
       "995            0    27.596447\n",
       "996            1    19.189359\n",
       "997            0    17.157156\n",
       "998            1    23.135241\n",
       "999            3    19.398653\n",
       "\n",
       "[1000 rows x 2 columns]"
      ]
     },
     "execution_count": 107,
     "metadata": {},
     "output_type": "execute_result"
    }
   ],
   "source": [
    "# Load the dataset\n",
    "x= df.drop('Timestamp',axis=1)\n",
    "x=x.drop('label',axis=1)\n",
    "x=x.drop('Anomaly',axis=1)\n",
    "y = df['Anomaly']\n",
    "x"
   ]
  },
  {
   "cell_type": "code",
   "execution_count": 105,
   "id": "fe047f06-31f1-4522-8e1b-45840b744c96",
   "metadata": {},
   "outputs": [
    {
     "name": "stdout",
     "output_type": "stream",
     "text": [
      "Accuracy: 0.995\n",
      "Precision: 0.5\n",
      "Recall: 1.0\n",
      "F1 Score: 0.6666666666666666\n"
     ]
    }
   ],
   "source": [
    "from sklearn.model_selection import train_test_split\n",
    "from sklearn.linear_model import LogisticRegression\n",
    "from sklearn.metrics import accuracy_score, precision_score, recall_score, f1_score\n",
    "\n",
    "# Labeling data based on threshold\n",
    "threshold = 40\n",
    "df['label'] = (df['Temperature'] > threshold).astype(int)\n",
    "\n",
    "# # Splitting data into features (X) and labels (y)\n",
    "# X = df[['Temperature']]\n",
    "# y = df['Anomaly']\n",
    "\n",
    "x= df.drop('Timestamp',axis=1)\n",
    "x=x.drop('label',axis=1)\n",
    "x=x.drop('Anomaly',axis=1)\n",
    "y = df['Anomaly']\n",
    "\n",
    "# Splitting data into training and testing sets\n",
    "X_train, X_test, y_train, y_test = train_test_split(x, y, test_size=0.2, random_state=42)\n",
    "\n",
    "# Model training\n",
    "model = LogisticRegression()\n",
    "model.fit(X_train, y_train)\n",
    "\n",
    "# Model evaluation\n",
    "y_pred = model.predict(X_test)\n",
    "accuracy = accuracy_score(y_test, y_pred)\n",
    "precision = precision_score(y_test, y_pred)\n",
    "recall = recall_score(y_test, y_pred)\n",
    "f1 = f1_score(y_test, y_pred)\n",
    "\n",
    "print(\"Accuracy:\", accuracy)\n",
    "print(\"Precision:\", precision)\n",
    "print(\"Recall:\", recall)\n",
    "print(\"F1 Score:\", f1)"
   ]
  },
  {
   "cell_type": "code",
   "execution_count": 123,
   "id": "ba26df5a-3261-4c5e-88fc-e1258674524a",
   "metadata": {},
   "outputs": [
    {
     "name": "stdout",
     "output_type": "stream",
     "text": [
      "The temperature 23.5 degrees Celsius is classified as normal.\n"
     ]
    }
   ],
   "source": [
    "def classify_temperature(model, name,temperature):\n",
    "    # Convert temperature to DataFrame with the same format as training data\n",
    "    new_data = pd.DataFrame({'Boiler Name':[name],'Temperature': [temperature]})\n",
    "    # Predict the label for the new temperature using the trained model\n",
    "    prediction = model.predict(new_data)\n",
    "    # Return the prediction\n",
    "    return prediction\n",
    "\n",
    "new_temperature = 23.5\n",
    "boiler_name=1\n",
    "\n",
    "prediction = classify_temperature(model,boiler_name,new_temperature)\n",
    "\n",
    "if prediction == 0:\n",
    "    print(f\"The temperature {new_temperature} degrees Celsius is classified as normal.\")\n",
    "else:\n",
    "    print(f\"The temperature {new_temperature} degrees Celsius is classified as abnormal.\")"
   ]
  },
  {
   "cell_type": "code",
   "execution_count": 124,
   "id": "92792a5b-7ba1-4219-8fbb-d5b82643ba33",
   "metadata": {},
   "outputs": [],
   "source": [
    "# save the regression model by using pickle\n",
    "import pickle\n",
    "with open('anomaly_model.pkl', 'wb') as f:\n",
    "    pickle.dump(model, f)"
   ]
  },
  {
   "cell_type": "code",
   "execution_count": 126,
   "id": "45796a26-0c91-4a16-b5d2-a387179d6680",
   "metadata": {},
   "outputs": [
    {
     "data": {
      "text/plain": [
       "1"
      ]
     },
     "execution_count": 126,
     "metadata": {},
     "output_type": "execute_result"
    }
   ],
   "source": [
    "# load the pickle model to predict selling price\n",
    "import pickle\n",
    "with open('anomaly_model.pkl', 'rb') as f:\n",
    "    model = pickle.load(f)\n",
    "\n",
    "y_pred = model.predict(np.array([[1,81]]))\n",
    "y_pred[0]"
   ]
  },
  {
   "cell_type": "code",
   "execution_count": 65,
   "id": "aa073fd9-c856-4330-8847-14672d574d8b",
   "metadata": {},
   "outputs": [
    {
     "name": "stdout",
     "output_type": "stream",
     "text": [
      "Predicted anomalies:\n",
      "               Timestamp  Boiler Name  Temperature  Anomaly  label\n",
      "60   2023-01-02 17:15:45            0    80.037748        1      1\n",
      "81   2023-01-07 17:50:23            0    94.007501        1      1\n",
      "117  2023-01-20 22:51:29            1    88.680524        1      1\n",
      "118  2023-01-02 12:20:59            1    82.416402        1      1\n",
      "138  2023-01-05 03:41:11            0    40.413956        1      1\n",
      "144  2023-01-14 18:28:24            1    78.083391        1      1\n",
      "195  2023-01-06 09:41:09            1    73.840947        1      1\n",
      "317  2023-01-27 03:32:47            1    66.032211        1      1\n",
      "384  2023-01-22 18:50:19            2    46.192764        1      1\n",
      "457  2023-01-17 13:03:43            2    49.623586        1      1\n",
      "506  2023-01-20 16:23:34            0    46.767853        1      1\n",
      "519  2023-01-16 19:00:01            2    42.447662        1      1\n",
      "541  2023-01-08 06:45:35            0    76.963407        1      1\n",
      "645  2023-01-18 00:55:36            0    82.460148        1      1\n",
      "723  2023-01-07 16:58:23            3    43.485209        1      1\n",
      "733  2023-01-29 23:21:06            3    73.412687        1      1\n",
      "772  2023-01-22 03:58:42            0    41.592647        1      1\n",
      "773  2023-01-30 17:36:33            2    41.136347        1      1\n",
      "778  2023-01-05 04:21:54            2    41.501409        1      1\n",
      "827  2023-01-01 22:55:09            3    40.107362        1      1\n",
      "864  2023-01-06 15:43:25            3    77.177040        1      1\n",
      "890  2023-01-08 09:38:14            3    60.410045        1      1\n",
      "915  2023-01-17 14:23:22            3    56.975484        1      1\n",
      "992  2023-01-29 15:49:11            3    74.270157        1      1\n"
     ]
    }
   ],
   "source": [
    "from sklearn.svm import OneClassSVM\n",
    "threshold = 40\n",
    "normal_data = df[df['Temperature'] <= threshold]\n",
    "\n",
    "# Train One-Class SVM model\n",
    "model = OneClassSVM(kernel='rbf', nu=0.1)  # Adjust parameters as needed\n",
    "model.fit(normal_data[['Temperature']])\n",
    "\n",
    "# Predict anomalies (temperatures above threshold)\n",
    "anomalies = df[df['Temperature'] > threshold]\n",
    "predictions = model.predict(anomalies[['Temperature']])\n",
    "\n",
    "# Print the predicted anomalies\n",
    "print(\"Predicted anomalies:\")\n",
    "print(anomalies[predictions == -1])"
   ]
  },
  {
   "cell_type": "code",
   "execution_count": 66,
   "id": "080a888d-29bb-4dcb-bc7c-cd1d1933aec0",
   "metadata": {},
   "outputs": [
    {
     "name": "stdout",
     "output_type": "stream",
     "text": [
      "Accuracy: 0.865\n"
     ]
    }
   ],
   "source": [
    "from sklearn.metrics import accuracy_score\n",
    "\n",
    "# Assuming 'model' is the trained One-Class SVM model and 'X_test', 'y_test' are the test data and labels\n",
    "# Predict labels for the test data\n",
    "y_pred = model.predict(X_test)\n",
    "\n",
    "# Convert predicted labels to binary (1 for anomaly, -1 for normal)\n",
    "y_pred_binary = (y_pred == -1).astype(int)\n",
    "\n",
    "# Compute accuracy\n",
    "accuracy = accuracy_score(y_test, y_pred_binary)\n",
    "print(\"Accuracy:\", accuracy)"
   ]
  },
  {
   "cell_type": "code",
   "execution_count": 67,
   "id": "252312bf-353f-47c4-8d8c-612463b874c1",
   "metadata": {},
   "outputs": [
    {
     "name": "stdout",
     "output_type": "stream",
     "text": [
      "The input temperature 55 degrees Celsius is classified as anomalous.\n"
     ]
    }
   ],
   "source": [
    "input_temperature = 55  # Example input temperature value\n",
    "\n",
    "# Prepare the input data with the same format as the training data\n",
    "input_data = pd.DataFrame({'Temperature': [input_temperature]})\n",
    "\n",
    "# Use the trained model to predict whether the input data is normal or anomalous\n",
    "prediction = model.predict(input_data[['Temperature']])[0]\n",
    "\n",
    "# Check the predicted label to determine if the input data is classified as normal or anomalous\n",
    "if prediction == -1:\n",
    "    print(f\"The input temperature {input_temperature} degrees Celsius is classified as anomalous.\")\n",
    "else:\n",
    "    print(f\"The input temperature {input_temperature} degrees Celsius is classified as normal.\")"
   ]
  }
 ],
 "metadata": {
  "kernelspec": {
   "display_name": "Python 3 (ipykernel)",
   "language": "python",
   "name": "python3"
  },
  "language_info": {
   "codemirror_mode": {
    "name": "ipython",
    "version": 3
   },
   "file_extension": ".py",
   "mimetype": "text/x-python",
   "name": "python",
   "nbconvert_exporter": "python",
   "pygments_lexer": "ipython3",
   "version": "3.11.5"
  }
 },
 "nbformat": 4,
 "nbformat_minor": 5
}
